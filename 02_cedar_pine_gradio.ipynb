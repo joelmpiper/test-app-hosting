{
 "cells": [
  {
   "cell_type": "markdown",
   "metadata": {
    "id": "view-in-github"
   },
   "source": [
    "<a href=\"https://colab.research.google.com/github/joelmpiper/test-app-hosting/blob/main/02_cedar_pine.ipynb\" target=\"_parent\"><img src=\"https://colab.research.google.com/assets/colab-badge.svg\" alt=\"Open In Colab\"/></a>"
   ]
  },
  {
   "cell_type": "markdown",
   "metadata": {
    "colab": {
     "base_uri": "https://localhost:8080/"
    },
    "executionInfo": {
     "elapsed": 14430,
     "status": "ok",
     "timestamp": 1703538146601,
     "user": {
      "displayName": "Joel Piper",
      "userId": "16332878059641982572"
     },
     "user_tz": 300
    },
    "id": "lBCzdM0ix5Zo",
    "outputId": "232fb527-6b29-4158-d419-9fb6ca209b4f"
   },
   "source": [
    "from google.colab import drive\n",
    "drive.mount('/gdrive')"
   ]
  },
  {
   "cell_type": "code",
   "execution_count": 10,
   "metadata": {
    "id": "EUVBx3iQxU1d"
   },
   "outputs": [
    {
     "name": "stdout",
     "output_type": "stream",
     "text": [
      "Running on local URL:  http://127.0.0.1:7860\n",
      "\n",
      "To create a public link, set `share=True` in `launch()`.\n"
     ]
    },
    {
     "data": {
      "text/html": [
       "<div><iframe src=\"http://127.0.0.1:7860/\" width=\"100%\" height=\"500\" allow=\"autoplay; camera; microphone; clipboard-read; clipboard-write;\" frameborder=\"0\" allowfullscreen></iframe></div>"
      ],
      "text/plain": [
       "<IPython.core.display.HTML object>"
      ]
     },
     "metadata": {},
     "output_type": "display_data"
    },
    {
     "data": {
      "text/plain": []
     },
     "execution_count": 10,
     "metadata": {},
     "output_type": "execute_result"
    },
    {
     "data": {
      "text/html": [
       "\n",
       "<style>\n",
       "    /* Turns off some styling */\n",
       "    progress {\n",
       "        /* gets rid of default border in Firefox and Opera. */\n",
       "        border: none;\n",
       "        /* Needs to be in here for Safari polyfill so background images work as expected. */\n",
       "        background-size: auto;\n",
       "    }\n",
       "    progress:not([value]), progress:not([value])::-webkit-progress-bar {\n",
       "        background: repeating-linear-gradient(45deg, #7e7e7e, #7e7e7e 10px, #5c5c5c 10px, #5c5c5c 20px);\n",
       "    }\n",
       "    .progress-bar-interrupted, .progress-bar-interrupted::-webkit-progress-bar {\n",
       "        background: #F44336;\n",
       "    }\n",
       "</style>\n"
      ],
      "text/plain": [
       "<IPython.core.display.HTML object>"
      ]
     },
     "metadata": {},
     "output_type": "display_data"
    },
    {
     "data": {
      "text/html": [],
      "text/plain": [
       "<IPython.core.display.HTML object>"
      ]
     },
     "metadata": {},
     "output_type": "display_data"
    },
    {
     "data": {
      "text/html": [
       "\n",
       "<style>\n",
       "    /* Turns off some styling */\n",
       "    progress {\n",
       "        /* gets rid of default border in Firefox and Opera. */\n",
       "        border: none;\n",
       "        /* Needs to be in here for Safari polyfill so background images work as expected. */\n",
       "        background-size: auto;\n",
       "    }\n",
       "    progress:not([value]), progress:not([value])::-webkit-progress-bar {\n",
       "        background: repeating-linear-gradient(45deg, #7e7e7e, #7e7e7e 10px, #5c5c5c 10px, #5c5c5c 20px);\n",
       "    }\n",
       "    .progress-bar-interrupted, .progress-bar-interrupted::-webkit-progress-bar {\n",
       "        background: #F44336;\n",
       "    }\n",
       "</style>\n"
      ],
      "text/plain": [
       "<IPython.core.display.HTML object>"
      ]
     },
     "metadata": {},
     "output_type": "display_data"
    },
    {
     "data": {
      "text/html": [],
      "text/plain": [
       "<IPython.core.display.HTML object>"
      ]
     },
     "metadata": {},
     "output_type": "display_data"
    }
   ],
   "source": [
    "import gradio as gr\n",
    "from fastai.vision.all import *\n",
    "import skimage\n",
    "\n",
    "learn = load_learner('tree_model.pkl')\n",
    "\n",
    "labels = learn.dls.vocab\n",
    "def predict(img):\n",
    "    img = PILImage.create(img)\n",
    "    pred,pred_idx,probs = learn.predict(img)\n",
    "    return {labels[i]: float(probs[i]) for i in range(len(labels))}\n",
    "\n",
    "title = \"Tree Type Classifier\"\n",
    "description = \"\"\"\n",
    "  A tree classifier trained on some images from Bing with fastai.\n",
    "  Following a demo for Gradio and HuggingFace Spaces at the link below.\"\"\"\n",
    "article=\"<p style='text-align: center'><a href='https://tmabraham.github.io/blog/gradio_hf_spaces_tutorial' target='_blank'>Blog post</a></p>\"\n",
    "examples = ['../images/dog.jpeg']\n",
    "#interpretation='default'\n",
    "# enable_queue=True\n",
    "\n",
    "gr.Interface(fn=predict,\n",
    "             inputs=gr.Image(height=512, width=512),\n",
    "             outputs=gr.Label(num_top_classes=3),\n",
    "             title=title,description=description,\n",
    "             article=article,\n",
    "             examples=examples,\n",
    "             # interpretation=interpretation,\n",
    "             # enable_queue=enable_queue\n",
    "            ).launch()"
   ]
  }
 ],
 "metadata": {
  "accelerator": "GPU",
  "colab": {
   "gpuType": "T4",
   "provenance": [],
   "toc_visible": true
  },
  "jupytext": {
   "split_at_heading": true
  },
  "kernelspec": {
   "display_name": "Python 3 (ipykernel)",
   "language": "python",
   "name": "python3"
  },
  "language_info": {
   "codemirror_mode": {
    "name": "ipython",
    "version": 3
   },
   "file_extension": ".py",
   "mimetype": "text/x-python",
   "name": "python",
   "nbconvert_exporter": "python",
   "pygments_lexer": "ipython3",
   "version": "3.11.7"
  },
  "widgets": {
   "application/vnd.jupyter.widget-state+json": {
    "0e3d9e12d2f04accb1954a6a989496b9": {
     "model_module": "@jupyter-widgets/base",
     "model_module_version": "1.2.0",
     "model_name": "LayoutModel",
     "state": {
      "_model_module": "@jupyter-widgets/base",
      "_model_module_version": "1.2.0",
      "_model_name": "LayoutModel",
      "_view_count": null,
      "_view_module": "@jupyter-widgets/base",
      "_view_module_version": "1.2.0",
      "_view_name": "LayoutView",
      "align_content": null,
      "align_items": null,
      "align_self": null,
      "border": null,
      "bottom": null,
      "display": null,
      "flex": null,
      "flex_flow": null,
      "grid_area": null,
      "grid_auto_columns": null,
      "grid_auto_flow": null,
      "grid_auto_rows": null,
      "grid_column": null,
      "grid_gap": null,
      "grid_row": null,
      "grid_template_areas": null,
      "grid_template_columns": null,
      "grid_template_rows": null,
      "height": null,
      "justify_content": null,
      "justify_items": null,
      "left": null,
      "margin": null,
      "max_height": null,
      "max_width": null,
      "min_height": null,
      "min_width": null,
      "object_fit": null,
      "object_position": null,
      "order": null,
      "overflow": null,
      "overflow_x": null,
      "overflow_y": null,
      "padding": null,
      "right": null,
      "top": null,
      "visibility": null,
      "width": null
     }
    },
    "133550ad52234254b83760b0dde58252": {
     "model_module": "@jupyter-widgets/controls",
     "model_module_version": "1.5.0",
     "model_name": "ButtonStyleModel",
     "state": {
      "_model_module": "@jupyter-widgets/controls",
      "_model_module_version": "1.5.0",
      "_model_name": "ButtonStyleModel",
      "_view_count": null,
      "_view_module": "@jupyter-widgets/base",
      "_view_module_version": "1.2.0",
      "_view_name": "StyleView",
      "button_color": null,
      "font_weight": ""
     }
    },
    "199eaf971a5f4806bc2e7e807b6d60aa": {
     "model_module": "@jupyter-widgets/controls",
     "model_module_version": "1.5.0",
     "model_name": "VBoxModel",
     "state": {
      "_dom_classes": [],
      "_model_module": "@jupyter-widgets/controls",
      "_model_module_version": "1.5.0",
      "_model_name": "VBoxModel",
      "_view_count": null,
      "_view_module": "@jupyter-widgets/controls",
      "_view_module_version": "1.5.0",
      "_view_name": "VBoxView",
      "box_style": "",
      "children": [
       "IPY_MODEL_bd752bd105e541c3814355e60aff80a1",
       "IPY_MODEL_ec1a5e8a66814a309eb5b3ee42130ea8",
       "IPY_MODEL_84123d19b48b44c7b6bcaf6b517bc244",
       "IPY_MODEL_230707bf47b84b3994868d5f63bc75ec",
       "IPY_MODEL_a04b2ceead69457a95dde29798bc9c8a"
      ],
      "layout": "IPY_MODEL_c7244584659e438883fb449d5193968f"
     }
    },
    "230707bf47b84b3994868d5f63bc75ec": {
     "model_module": "@jupyter-widgets/output",
     "model_module_version": "1.0.0",
     "model_name": "OutputModel",
     "state": {
      "_dom_classes": [],
      "_model_module": "@jupyter-widgets/output",
      "_model_module_version": "1.0.0",
      "_model_name": "OutputModel",
      "_view_count": null,
      "_view_module": "@jupyter-widgets/output",
      "_view_module_version": "1.0.0",
      "_view_name": "OutputView",
      "layout": "IPY_MODEL_3eddaec03f9d49eb952d9186e65fad7a",
      "msg_id": "",
      "outputs": [
       {
        "data": {
         "image/png": "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\n",
         "text/plain": "<PIL.Image.Image image mode=RGB size=128x85>"
        },
        "metadata": {},
        "output_type": "display_data"
       }
      ]
     }
    },
    "3eddaec03f9d49eb952d9186e65fad7a": {
     "model_module": "@jupyter-widgets/base",
     "model_module_version": "1.2.0",
     "model_name": "LayoutModel",
     "state": {
      "_model_module": "@jupyter-widgets/base",
      "_model_module_version": "1.2.0",
      "_model_name": "LayoutModel",
      "_view_count": null,
      "_view_module": "@jupyter-widgets/base",
      "_view_module_version": "1.2.0",
      "_view_name": "LayoutView",
      "align_content": null,
      "align_items": null,
      "align_self": null,
      "border": null,
      "bottom": null,
      "display": null,
      "flex": null,
      "flex_flow": null,
      "grid_area": null,
      "grid_auto_columns": null,
      "grid_auto_flow": null,
      "grid_auto_rows": null,
      "grid_column": null,
      "grid_gap": null,
      "grid_row": null,
      "grid_template_areas": null,
      "grid_template_columns": null,
      "grid_template_rows": null,
      "height": null,
      "justify_content": null,
      "justify_items": null,
      "left": null,
      "margin": null,
      "max_height": null,
      "max_width": null,
      "min_height": null,
      "min_width": null,
      "object_fit": null,
      "object_position": null,
      "order": null,
      "overflow": null,
      "overflow_x": null,
      "overflow_y": null,
      "padding": null,
      "right": null,
      "top": null,
      "visibility": null,
      "width": null
     }
    },
    "84123d19b48b44c7b6bcaf6b517bc244": {
     "model_module": "@jupyter-widgets/controls",
     "model_module_version": "1.5.0",
     "model_name": "ButtonModel",
     "state": {
      "_dom_classes": [],
      "_model_module": "@jupyter-widgets/controls",
      "_model_module_version": "1.5.0",
      "_model_name": "ButtonModel",
      "_view_count": null,
      "_view_module": "@jupyter-widgets/controls",
      "_view_module_version": "1.5.0",
      "_view_name": "ButtonView",
      "button_style": "",
      "description": "Classify",
      "disabled": false,
      "icon": "",
      "layout": "IPY_MODEL_eae1ee9a5fff4914971841dd98e23ff2",
      "style": "IPY_MODEL_be25abf990db4b5ea333951b329a299b",
      "tooltip": ""
     }
    },
    "8b70709be8cc45b0832cecfe2bd93263": {
     "model_module": "@jupyter-widgets/controls",
     "model_module_version": "1.5.0",
     "model_name": "DescriptionStyleModel",
     "state": {
      "_model_module": "@jupyter-widgets/controls",
      "_model_module_version": "1.5.0",
      "_model_name": "DescriptionStyleModel",
      "_view_count": null,
      "_view_module": "@jupyter-widgets/base",
      "_view_module_version": "1.2.0",
      "_view_name": "StyleView",
      "description_width": ""
     }
    },
    "8ee9b20d04d448978b3c9aba897e83aa": {
     "model_module": "@jupyter-widgets/base",
     "model_module_version": "1.2.0",
     "model_name": "LayoutModel",
     "state": {
      "_model_module": "@jupyter-widgets/base",
      "_model_module_version": "1.2.0",
      "_model_name": "LayoutModel",
      "_view_count": null,
      "_view_module": "@jupyter-widgets/base",
      "_view_module_version": "1.2.0",
      "_view_name": "LayoutView",
      "align_content": null,
      "align_items": null,
      "align_self": null,
      "border": null,
      "bottom": null,
      "display": null,
      "flex": null,
      "flex_flow": null,
      "grid_area": null,
      "grid_auto_columns": null,
      "grid_auto_flow": null,
      "grid_auto_rows": null,
      "grid_column": null,
      "grid_gap": null,
      "grid_row": null,
      "grid_template_areas": null,
      "grid_template_columns": null,
      "grid_template_rows": null,
      "height": null,
      "justify_content": null,
      "justify_items": null,
      "left": null,
      "margin": null,
      "max_height": null,
      "max_width": null,
      "min_height": null,
      "min_width": null,
      "object_fit": null,
      "object_position": null,
      "order": null,
      "overflow": null,
      "overflow_x": null,
      "overflow_y": null,
      "padding": null,
      "right": null,
      "top": null,
      "visibility": null,
      "width": null
     }
    },
    "a04b2ceead69457a95dde29798bc9c8a": {
     "model_module": "@jupyter-widgets/controls",
     "model_module_version": "1.5.0",
     "model_name": "LabelModel",
     "state": {
      "_dom_classes": [],
      "_model_module": "@jupyter-widgets/controls",
      "_model_module_version": "1.5.0",
      "_model_name": "LabelModel",
      "_view_count": null,
      "_view_module": "@jupyter-widgets/controls",
      "_view_module_version": "1.5.0",
      "_view_name": "LabelView",
      "description": "",
      "description_tooltip": null,
      "layout": "IPY_MODEL_dee23195ea314b72b58ce2e6b4bb3a96",
      "placeholder": "​",
      "style": "IPY_MODEL_8b70709be8cc45b0832cecfe2bd93263",
      "value": "Prediction: grizzly; Probability: 0.9990"
     }
    },
    "bd752bd105e541c3814355e60aff80a1": {
     "model_module": "@jupyter-widgets/controls",
     "model_module_version": "1.5.0",
     "model_name": "LabelModel",
     "state": {
      "_dom_classes": [],
      "_model_module": "@jupyter-widgets/controls",
      "_model_module_version": "1.5.0",
      "_model_name": "LabelModel",
      "_view_count": null,
      "_view_module": "@jupyter-widgets/controls",
      "_view_module_version": "1.5.0",
      "_view_name": "LabelView",
      "description": "",
      "description_tooltip": null,
      "layout": "IPY_MODEL_0e3d9e12d2f04accb1954a6a989496b9",
      "placeholder": "​",
      "style": "IPY_MODEL_e5ceed255e3141dd9a30f58b37fe3c09",
      "value": "Select your bear!"
     }
    },
    "be25abf990db4b5ea333951b329a299b": {
     "model_module": "@jupyter-widgets/controls",
     "model_module_version": "1.5.0",
     "model_name": "ButtonStyleModel",
     "state": {
      "_model_module": "@jupyter-widgets/controls",
      "_model_module_version": "1.5.0",
      "_model_name": "ButtonStyleModel",
      "_view_count": null,
      "_view_module": "@jupyter-widgets/base",
      "_view_module_version": "1.2.0",
      "_view_name": "StyleView",
      "button_color": null,
      "font_weight": ""
     }
    },
    "c7244584659e438883fb449d5193968f": {
     "model_module": "@jupyter-widgets/base",
     "model_module_version": "1.2.0",
     "model_name": "LayoutModel",
     "state": {
      "_model_module": "@jupyter-widgets/base",
      "_model_module_version": "1.2.0",
      "_model_name": "LayoutModel",
      "_view_count": null,
      "_view_module": "@jupyter-widgets/base",
      "_view_module_version": "1.2.0",
      "_view_name": "LayoutView",
      "align_content": null,
      "align_items": null,
      "align_self": null,
      "border": null,
      "bottom": null,
      "display": null,
      "flex": null,
      "flex_flow": null,
      "grid_area": null,
      "grid_auto_columns": null,
      "grid_auto_flow": null,
      "grid_auto_rows": null,
      "grid_column": null,
      "grid_gap": null,
      "grid_row": null,
      "grid_template_areas": null,
      "grid_template_columns": null,
      "grid_template_rows": null,
      "height": null,
      "justify_content": null,
      "justify_items": null,
      "left": null,
      "margin": null,
      "max_height": null,
      "max_width": null,
      "min_height": null,
      "min_width": null,
      "object_fit": null,
      "object_position": null,
      "order": null,
      "overflow": null,
      "overflow_x": null,
      "overflow_y": null,
      "padding": null,
      "right": null,
      "top": null,
      "visibility": null,
      "width": null
     }
    },
    "dee23195ea314b72b58ce2e6b4bb3a96": {
     "model_module": "@jupyter-widgets/base",
     "model_module_version": "1.2.0",
     "model_name": "LayoutModel",
     "state": {
      "_model_module": "@jupyter-widgets/base",
      "_model_module_version": "1.2.0",
      "_model_name": "LayoutModel",
      "_view_count": null,
      "_view_module": "@jupyter-widgets/base",
      "_view_module_version": "1.2.0",
      "_view_name": "LayoutView",
      "align_content": null,
      "align_items": null,
      "align_self": null,
      "border": null,
      "bottom": null,
      "display": null,
      "flex": null,
      "flex_flow": null,
      "grid_area": null,
      "grid_auto_columns": null,
      "grid_auto_flow": null,
      "grid_auto_rows": null,
      "grid_column": null,
      "grid_gap": null,
      "grid_row": null,
      "grid_template_areas": null,
      "grid_template_columns": null,
      "grid_template_rows": null,
      "height": null,
      "justify_content": null,
      "justify_items": null,
      "left": null,
      "margin": null,
      "max_height": null,
      "max_width": null,
      "min_height": null,
      "min_width": null,
      "object_fit": null,
      "object_position": null,
      "order": null,
      "overflow": null,
      "overflow_x": null,
      "overflow_y": null,
      "padding": null,
      "right": null,
      "top": null,
      "visibility": null,
      "width": null
     }
    },
    "e5ceed255e3141dd9a30f58b37fe3c09": {
     "model_module": "@jupyter-widgets/controls",
     "model_module_version": "1.5.0",
     "model_name": "DescriptionStyleModel",
     "state": {
      "_model_module": "@jupyter-widgets/controls",
      "_model_module_version": "1.5.0",
      "_model_name": "DescriptionStyleModel",
      "_view_count": null,
      "_view_module": "@jupyter-widgets/base",
      "_view_module_version": "1.2.0",
      "_view_name": "StyleView",
      "description_width": ""
     }
    },
    "eae1ee9a5fff4914971841dd98e23ff2": {
     "model_module": "@jupyter-widgets/base",
     "model_module_version": "1.2.0",
     "model_name": "LayoutModel",
     "state": {
      "_model_module": "@jupyter-widgets/base",
      "_model_module_version": "1.2.0",
      "_model_name": "LayoutModel",
      "_view_count": null,
      "_view_module": "@jupyter-widgets/base",
      "_view_module_version": "1.2.0",
      "_view_name": "LayoutView",
      "align_content": null,
      "align_items": null,
      "align_self": null,
      "border": null,
      "bottom": null,
      "display": null,
      "flex": null,
      "flex_flow": null,
      "grid_area": null,
      "grid_auto_columns": null,
      "grid_auto_flow": null,
      "grid_auto_rows": null,
      "grid_column": null,
      "grid_gap": null,
      "grid_row": null,
      "grid_template_areas": null,
      "grid_template_columns": null,
      "grid_template_rows": null,
      "height": null,
      "justify_content": null,
      "justify_items": null,
      "left": null,
      "margin": null,
      "max_height": null,
      "max_width": null,
      "min_height": null,
      "min_width": null,
      "object_fit": null,
      "object_position": null,
      "order": null,
      "overflow": null,
      "overflow_x": null,
      "overflow_y": null,
      "padding": null,
      "right": null,
      "top": null,
      "visibility": null,
      "width": null
     }
    },
    "ec1a5e8a66814a309eb5b3ee42130ea8": {
     "model_module": "@jupyter-widgets/controls",
     "model_module_version": "1.5.0",
     "model_name": "FileUploadModel",
     "state": {
      "_counter": 1,
      "_dom_classes": [],
      "_model_module": "@jupyter-widgets/controls",
      "_model_module_version": "1.5.0",
      "_model_name": "FileUploadModel",
      "_view_count": null,
      "_view_module": "@jupyter-widgets/controls",
      "_view_module_version": "1.5.0",
      "_view_name": "FileUploadView",
      "accept": "",
      "button_style": "",
      "data": [
       null
      ],
      "description": "Upload",
      "description_tooltip": null,
      "disabled": false,
      "error": "",
      "icon": "upload",
      "layout": "IPY_MODEL_8ee9b20d04d448978b3c9aba897e83aa",
      "metadata": [
       {
        "lastModified": 1702779041620,
        "name": "grizzly.jpeg",
        "size": 8191,
        "type": "image/jpeg"
       }
      ],
      "multiple": false,
      "style": "IPY_MODEL_133550ad52234254b83760b0dde58252"
     }
    }
   }
  }
 },
 "nbformat": 4,
 "nbformat_minor": 4
}
